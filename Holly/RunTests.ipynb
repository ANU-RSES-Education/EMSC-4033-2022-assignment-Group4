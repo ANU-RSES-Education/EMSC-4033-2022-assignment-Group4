{
 "cells": [
  {
   "cell_type": "code",
   "execution_count": 1,
   "id": "e96c4370-f68e-4b6e-8133-33cc72672796",
   "metadata": {},
   "outputs": [],
   "source": [
    "from src import functions"
   ]
  },
  {
   "cell_type": "code",
   "execution_count": 2,
   "id": "6cfe09db-2e11-42e4-b538-24d519252e52",
   "metadata": {},
   "outputs": [
    {
     "name": "stdout",
     "output_type": "stream",
     "text": [
      "\u001b[1m============================= test session starts ==============================\u001b[0m\n",
      "platform linux -- Python 3.9.7, pytest-7.1.2, pluggy-1.0.0\n",
      "rootdir: /home/jupyter-u6986006/EMSC-4033-2022-assignment-Group4/Holly\n",
      "plugins: anyio-3.5.0\n",
      "collected 4 items                                                              \u001b[0m\u001b[1m\n",
      "\n",
      "tests/test_functions.py \u001b[32m.\u001b[0m\u001b[32m.\u001b[0m\u001b[31mF\u001b[0m\u001b[32m.\u001b[0m\u001b[31m                                             [100%]\u001b[0m\n",
      "\n",
      "=================================== FAILURES ===================================\n",
      "\u001b[31m\u001b[1m___________________________ test_raster_coordinates ____________________________\u001b[0m\n",
      "\n",
      "    \u001b[94mdef\u001b[39;49;00m \u001b[92mtest_raster_coordinates\u001b[39;49;00m():\n",
      "        \u001b[33m\"\"\" tests if function breaks as expected when the coordinate values are invalid \"\"\"\u001b[39;49;00m\n",
      "        lat = np.linspace(\u001b[94m100\u001b[39;49;00m, -\u001b[94m100\u001b[39;49;00m, datasize[\u001b[94m0\u001b[39;49;00m]) \u001b[90m# +100 and -100 latitude do not exist\u001b[39;49;00m\n",
      ">       \u001b[94massert\u001b[39;49;00m \u001b[94mFalse\u001b[39;49;00m, \u001b[33m\"\u001b[39;49;00m\u001b[33m latitude coordinates are outside the possible range \u001b[39;49;00m\u001b[33m\"\u001b[39;49;00m\n",
      "\u001b[1m\u001b[31mE       AssertionError:  latitude coordinates are outside the possible range \u001b[0m\n",
      "\u001b[1m\u001b[31mE       assert False\u001b[0m\n",
      "\n",
      "\u001b[1m\u001b[31mtests/test_functions.py\u001b[0m:24: AssertionError\n",
      "=========================== short test summary info ============================\n",
      "FAILED tests/test_functions.py::test_raster_coordinates - AssertionError:  la...\n",
      "\u001b[31m========================= \u001b[31m\u001b[1m1 failed\u001b[0m, \u001b[32m3 passed\u001b[0m\u001b[31m in 1.31s\u001b[0m\u001b[31m ==========================\u001b[0m\n"
     ]
    }
   ],
   "source": [
    "! pytest"
   ]
  },
  {
   "cell_type": "code",
   "execution_count": null,
   "id": "016f350e-1f57-4a99-867a-24692bbba922",
   "metadata": {},
   "outputs": [],
   "source": []
  }
 ],
 "metadata": {
  "kernelspec": {
   "display_name": "Python 3 (ipykernel)",
   "language": "python",
   "name": "python3"
  },
  "language_info": {
   "codemirror_mode": {
    "name": "ipython",
    "version": 3
   },
   "file_extension": ".py",
   "mimetype": "text/x-python",
   "name": "python",
   "nbconvert_exporter": "python",
   "pygments_lexer": "ipython3",
   "version": "3.9.7"
  }
 },
 "nbformat": 4,
 "nbformat_minor": 5
}
