{
 "cells": [
  {
   "cell_type": "code",
   "execution_count": 1,
   "id": "e96c4370-f68e-4b6e-8133-33cc72672796",
   "metadata": {},
   "outputs": [],
   "source": [
    "from src import functions"
   ]
  },
  {
   "cell_type": "code",
   "execution_count": 2,
   "id": "5b8289d8-cd7c-4d57-a8ab-70b944307608",
   "metadata": {},
   "outputs": [],
   "source": [
    "# functions.foo_function(4)"
   ]
  },
  {
   "cell_type": "code",
   "execution_count": 3,
   "id": "6cfe09db-2e11-42e4-b538-24d519252e52",
   "metadata": {},
   "outputs": [
    {
     "name": "stdout",
     "output_type": "stream",
     "text": [
      "\u001b[1m============================= test session starts ==============================\u001b[0m\n",
      "platform linux -- Python 3.9.7, pytest-7.1.2, pluggy-1.0.0\n",
      "rootdir: /home/jupyter-u6986006/EMSC-4033-2022-assignment-Group4/Holly\n",
      "plugins: anyio-3.5.0\n",
      "collected 0 items / 1 error                                                    \u001b[0m\n",
      "\n",
      "==================================== ERRORS ====================================\n",
      "\u001b[31m\u001b[1m___________________ ERROR collecting tests/test_functions.py ___________________\u001b[0m\n",
      "\u001b[31m/opt/tljh/user/lib/python3.9/site-packages/_pytest/python.py:608: in _importtestmodule\n",
      "    mod = import_path(self.path, mode=importmode, root=self.config.rootpath)\n",
      "/opt/tljh/user/lib/python3.9/site-packages/_pytest/pathlib.py:533: in import_path\n",
      "    importlib.import_module(module_name)\n",
      "/opt/tljh/user/lib/python3.9/importlib/__init__.py:127: in import_module\n",
      "    return _bootstrap._gcd_import(name[level:], package, level)\n",
      "<frozen importlib._bootstrap>:1030: in _gcd_import\n",
      "    ???\n",
      "<frozen importlib._bootstrap>:1007: in _find_and_load\n",
      "    ???\n",
      "<frozen importlib._bootstrap>:986: in _find_and_load_unlocked\n",
      "    ???\n",
      "<frozen importlib._bootstrap>:680: in _load_unlocked\n",
      "    ???\n",
      "/opt/tljh/user/lib/python3.9/site-packages/_pytest/assertion/rewrite.py:159: in exec_module\n",
      "    source_stat, co = _rewrite_test(fn, self.config)\n",
      "/opt/tljh/user/lib/python3.9/site-packages/_pytest/assertion/rewrite.py:359: in _rewrite_test\n",
      "    tree = ast.parse(source, filename=strfn)\n",
      "/opt/tljh/user/lib/python3.9/ast.py:50: in parse\n",
      "    return compile(source, filename, mode, flags,\n",
      "E     File \"/home/jupyter-u6986006/EMSC-4033-2022-assignment-Group4/Holly/tests/test_functions.py\", line 38\n",
      "E       return 50\n",
      "E       ^\n",
      "E   IndentationError: expected an indented block\u001b[0m\n",
      "=========================== short test summary info ============================\n",
      "ERROR tests/test_functions.py\n",
      "!!!!!!!!!!!!!!!!!!!! Interrupted: 1 error during collection !!!!!!!!!!!!!!!!!!!!\n",
      "\u001b[31m=============================== \u001b[31m\u001b[1m1 error\u001b[0m\u001b[31m in 0.16s\u001b[0m\u001b[31m ===============================\u001b[0m\n"
     ]
    }
   ],
   "source": [
    "! pytest"
   ]
  },
  {
   "cell_type": "code",
   "execution_count": null,
   "id": "016f350e-1f57-4a99-867a-24692bbba922",
   "metadata": {},
   "outputs": [],
   "source": []
  }
 ],
 "metadata": {
  "kernelspec": {
   "display_name": "Python 3 (ipykernel)",
   "language": "python",
   "name": "python3"
  },
  "language_info": {
   "codemirror_mode": {
    "name": "ipython",
    "version": 3
   },
   "file_extension": ".py",
   "mimetype": "text/x-python",
   "name": "python",
   "nbconvert_exporter": "python",
   "pygments_lexer": "ipython3",
   "version": "3.9.7"
  }
 },
 "nbformat": 4,
 "nbformat_minor": 5
}
