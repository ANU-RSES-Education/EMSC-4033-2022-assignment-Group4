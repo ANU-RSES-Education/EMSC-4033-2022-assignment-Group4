{
 "cells": [
  {
   "cell_type": "code",
   "execution_count": 1,
   "id": "e96c4370-f68e-4b6e-8133-33cc72672796",
   "metadata": {},
   "outputs": [],
   "source": [
    "from src import functions\n",
    "from src import my_functions\n",
    "\n"
   ]
  },
  {
   "cell_type": "code",
   "execution_count": 2,
   "id": "6cfe09db-2e11-42e4-b538-24d519252e52",
   "metadata": {},
   "outputs": [
    {
     "name": "stdout",
     "output_type": "stream",
     "text": [
      "\u001b[1m============================= test session starts ==============================\u001b[0m\n",
      "platform linux -- Python 3.9.7, pytest-7.1.2, pluggy-1.0.0\n",
      "rootdir: /home/jupyter-u6966168/EMSC-4033-2022-assignment-Group4/Ricky\n",
      "plugins: anyio-3.5.0\n",
      "collected 5 items                                                              \u001b[0m\u001b[1m\n",
      "\n",
      "tests/test_functions.py \u001b[32m.\u001b[0m\u001b[32m.\u001b[0m\u001b[32m.\u001b[0m\u001b[32m.\u001b[0m\u001b[32m.\u001b[0m\u001b[32m                                            [100%]\u001b[0m\n",
      "\n",
      "\u001b[32m======================== \u001b[32m\u001b[1m5 passed\u001b[0m\u001b[32m in 108.65s (0:01:48)\u001b[0m\u001b[32m =========================\u001b[0m\n"
     ]
    }
   ],
   "source": [
    "! pytest\n",
    "\n"
   ]
  }
 ],
 "metadata": {
  "kernelspec": {
   "display_name": "Python 3 (ipykernel)",
   "language": "python",
   "name": "python3"
  },
  "language_info": {
   "codemirror_mode": {
    "name": "ipython",
    "version": 3
   },
   "file_extension": ".py",
   "mimetype": "text/x-python",
   "name": "python",
   "nbconvert_exporter": "python",
   "pygments_lexer": "ipython3",
   "version": "3.9.7"
  }
 },
 "nbformat": 4,
 "nbformat_minor": 5
}
